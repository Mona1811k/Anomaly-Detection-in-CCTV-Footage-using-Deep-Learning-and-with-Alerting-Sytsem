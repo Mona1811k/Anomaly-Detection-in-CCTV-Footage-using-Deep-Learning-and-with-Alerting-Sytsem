{
  "cells": [
    {
      "cell_type": "markdown",
      "metadata": {
        "id": "view-in-github",
        "colab_type": "text"
      },
      "source": [
        "<a href=\"https://colab.research.google.com/github/Mona1811k/Anomaly-Detection-in-CCTV-Footage-using-Deep-Learning-and-with-Alerting-Sytsem/blob/main/smart_ser.ipynb\" target=\"_parent\"><img src=\"https://colab.research.google.com/assets/colab-badge.svg\" alt=\"Open In Colab\"/></a>"
      ]
    },
    {
      "cell_type": "code",
      "execution_count": null,
      "metadata": {
        "_cell_guid": "b1076dfc-b9ad-4769-8c92-a6c4dae69d19",
        "_uuid": "8f2839f25d086af736a60e9eeb907d3b93b6e0e5",
        "execution": {
          "iopub.execute_input": "2024-12-09T06:59:28.820295Z",
          "iopub.status.busy": "2024-12-09T06:59:28.819919Z",
          "iopub.status.idle": "2024-12-09T06:59:40.013765Z",
          "shell.execute_reply": "2024-12-09T06:59:40.013061Z",
          "shell.execute_reply.started": "2024-12-09T06:59:28.820260Z"
        },
        "trusted": true,
        "id": "XjK3pmfs7BbO"
      },
      "outputs": [],
      "source": [
        "from IPython.display import clear_output,Video\n",
        "import keras\n",
        "import numpy as np\n",
        "import cv2"
      ]
    },
    {
      "cell_type": "code",
      "execution_count": null,
      "metadata": {
        "execution": {
          "iopub.execute_input": "2024-12-09T06:59:40.015694Z",
          "iopub.status.busy": "2024-12-09T06:59:40.015231Z",
          "iopub.status.idle": "2024-12-09T06:59:40.019619Z",
          "shell.execute_reply": "2024-12-09T06:59:40.018728Z",
          "shell.execute_reply.started": "2024-12-09T06:59:40.015667Z"
        },
        "trusted": true,
        "id": "qkbvvhPH7BbQ"
      },
      "outputs": [],
      "source": [
        "scvd_train_dir = '/kaggle/input/smartcity-cctv-violence-detection-dataset-scvd/SCVD/SCVD_converted_sec_split/Train'\n",
        "scvd_test_dir = '/kaggle/input/smartcity-cctv-violence-detection-dataset-scvd/SCVD/SCVD_converted_sec_split/Test'\n",
        "scvd_classes = ['Normal', 'Violence','Weaponized']"
      ]
    },
    {
      "cell_type": "code",
      "execution_count": null,
      "metadata": {
        "execution": {
          "iopub.execute_input": "2024-12-09T07:01:50.895042Z",
          "iopub.status.busy": "2024-12-09T07:01:50.894138Z",
          "iopub.status.idle": "2024-12-09T07:01:50.898844Z",
          "shell.execute_reply": "2024-12-09T07:01:50.898046Z",
          "shell.execute_reply.started": "2024-12-09T07:01:50.895012Z"
        },
        "trusted": true,
        "id": "e2w8coM57BbQ"
      },
      "outputs": [],
      "source": [
        "# Define the base directory and categories\n",
        "base_dir = '/kaggle/input/smartcity-cctv-violence-detection-dataset-scvd/SCVD/SCVD_converted_sec_split/Train'\n",
        "categories = ['Normal', 'Violence', 'Weaponized']"
      ]
    },
    {
      "cell_type": "code",
      "execution_count": null,
      "metadata": {
        "execution": {
          "iopub.execute_input": "2024-12-09T07:01:51.660903Z",
          "iopub.status.busy": "2024-12-09T07:01:51.660566Z",
          "iopub.status.idle": "2024-12-09T07:01:51.829132Z",
          "shell.execute_reply": "2024-12-09T07:01:51.828033Z",
          "shell.execute_reply.started": "2024-12-09T07:01:51.660874Z"
        },
        "trusted": true,
        "id": "f0JNijYp7BbR",
        "outputId": "2a0eabbf-bfba-4f9e-8aa8-6a33a3eda976"
      },
      "outputs": [
        {
          "name": "stdout",
          "output_type": "stream",
          "text": [
            "Video counts per category:\n",
            "Normal: 872 videos\n",
            "Violence: 970 videos\n",
            "Weaponized: 832 videos\n"
          ]
        }
      ],
      "source": [
        "import os\n",
        "\n",
        "# Function to count videos in each category\n",
        "def count_videos(base_dir, categories):\n",
        "    video_count = {}\n",
        "\n",
        "    for category in categories:\n",
        "        category_path = os.path.join(base_dir, category)\n",
        "\n",
        "        if not os.path.exists(category_path):\n",
        "            print(f\"Directory for category '{category}' not found.\")\n",
        "            video_count[category] = 0\n",
        "            continue\n",
        "\n",
        "        # List all video files in the category directory\n",
        "        video_files = [f for f in os.listdir(category_path) if f.endswith(('.mp4', '.avi', '.mkv'))]\n",
        "        video_count[category] = len(video_files)\n",
        "\n",
        "    return video_count\n",
        "\n",
        "# Call the function and print the counts\n",
        "video_counts = count_videos(base_dir, categories)\n",
        "\n",
        "print(\"Video counts per category:\")\n",
        "for category, count in video_counts.items():\n",
        "    print(f\"{category}: {count} videos\")\n"
      ]
    },
    {
      "cell_type": "code",
      "execution_count": null,
      "metadata": {
        "trusted": true,
        "id": "j3vgSHr57BbY"
      },
      "outputs": [],
      "source": []
    }
  ],
  "metadata": {
    "kaggle": {
      "accelerator": "gpu",
      "dataSources": [
        {
          "datasetId": 2151340,
          "sourceId": 7312675,
          "sourceType": "datasetVersion"
        }
      ],
      "dockerImageVersionId": 30805,
      "isGpuEnabled": true,
      "isInternetEnabled": true,
      "language": "python",
      "sourceType": "notebook"
    },
    "kernelspec": {
      "display_name": "Python 3",
      "language": "python",
      "name": "python3"
    },
    "language_info": {
      "codemirror_mode": {
        "name": "ipython",
        "version": 3
      },
      "file_extension": ".py",
      "mimetype": "text/x-python",
      "name": "python",
      "nbconvert_exporter": "python",
      "pygments_lexer": "ipython3",
      "version": "3.10.14"
    },
    "colab": {
      "provenance": [],
      "include_colab_link": true
    }
  },
  "nbformat": 4,
  "nbformat_minor": 0
}